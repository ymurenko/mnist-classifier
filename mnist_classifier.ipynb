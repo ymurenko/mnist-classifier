{
 "cells": [
  {
   "cell_type": "markdown",
   "metadata": {},
   "source": [
    "# MNIST Classifier Neural Net\n",
    "A basic handwriting recognition neural net that learns to classify hand-written digits from the MNIST dataset"
   ]
  },
  {
   "cell_type": "code",
   "execution_count": null,
   "metadata": {},
   "outputs": [],
   "source": [
    "!pip3 install torch torchvision matplotlib --quiet"
   ]
  },
  {
   "cell_type": "markdown",
   "metadata": {},
   "source": [
    "### Download & prepare the MNIST dataset\n",
    "The \"datasets\" pytorch can be used to fetch the dataset "
   ]
  },
  {
   "cell_type": "code",
   "execution_count": 1,
   "metadata": {},
   "outputs": [],
   "source": [
    "import torch\n",
    "from torch import nn\n",
    "from torch import optim\n",
    "import torch.nn.functional as F\n",
    "from torchvision import datasets, transforms\n",
    "\n",
    "# Download and normalize the 60,000 training images, and 10,000 test images\n",
    "training_data = datasets.MNIST('./MNIST_data/', download=True, train=True, transform=transforms.ToTensor())\n",
    "testing_data = datasets.MNIST('./MNIST_data/', download=True, train=False, transform=transforms.ToTensor())\n",
    "\n",
    "# Initialize data loaders to load the images and labels for the network\n",
    "train_loader = torch.utils.data.DataLoader(training_data, batch_size=64, shuffle=True)\n",
    "test_loader = torch.utils.data.DataLoader(testing_data, batch_size=64, shuffle=True)"
   ]
  },
  {
   "cell_type": "markdown",
   "metadata": {},
   "source": [
    "### Model definition: define the structure of the neural network\n",
    "In `__init__` we describe each layer, defining the number of inputs and outputs.\n",
    "The input layer does not need to be defined, since the input layer is just the flattened 784-long vector that describes the image."
   ]
  },
  {
   "cell_type": "code",
   "execution_count": 2,
   "metadata": {},
   "outputs": [],
   "source": [
    "class NeuralNet(nn.Module):\n",
    "    def __init__(self):\n",
    "        super(NeuralNet, self).__init__()\n",
    "        self.fc1 = nn.Linear(784, 20) # define hidden layer dimensions: 784 inputs, 20 outputs\n",
    "        self.fc2 = nn.Linear(20, 10) # define output layer dimensions: 20 inputs, 10 outputs\n",
    "\n",
    "    def forward(self, inputs):\n",
    "        input_layer = inputs.view(inputs.shape[0], -1) # flatten the 28x28 images into a 784-long vector\n",
    "        hidden_layer = F.sigmoid(self.fc1(input_layer)) # apply sigmoid to hidden layer\n",
    "        output_layer = F.log_softmax(self.fc2(hidden_layer), dim=1) # apply softmax to output layer\n",
    "        return output_layer"
   ]
  },
  {
   "cell_type": "markdown",
   "metadata": {},
   "source": [
    "### Initialize the neural net, loss function, and optimizer\n",
    "Here we'll initialize the network we defined above, the function used for calculating loss, and the optimizer that will adjust the weights.\n",
    "- Since our output layer is a probability distribution created using the `softmax` function, we need to use the \"negative log likelihood loss\" (NLL Loss) function.\n",
    "- The optimizer is the function that makes all the weight adjustments \n",
    "- The optimizer we're using is called \"stochastic gradient descent\" (SGD), one of the most popular and commonly used optimizers in machine learning."
   ]
  },
  {
   "cell_type": "code",
   "execution_count": 3,
   "metadata": {},
   "outputs": [],
   "source": [
    "# Initialize network, error/loss function, and weight weights_optimizer\n",
    "model = NeuralNet()\n",
    "loss_function = nn.NLLLoss() # Calculates the loss (error) of the network\n",
    "weights_optimizer = optim.SGD(model.parameters(), lr=0.05) # Updates the weights of the network"
   ]
  },
  {
   "cell_type": "markdown",
   "metadata": {},
   "source": [
    "### Define the training script\n",
    "Our training script is a simple nested loop. \n",
    "- The inner loop does a forward->backward pass for each sample in the training dataset, so it runs 60,000 times\n",
    "    - One run of the inner loop is one training **iteration**\n",
    "- The outer loop is set to run until the loss reaches an acceptable minimum\n",
    "    - One run of the outer loop is one training **epoch**"
   ]
  },
  {
   "cell_type": "code",
   "execution_count": 4,
   "metadata": {},
   "outputs": [
    {
     "name": "stdout",
     "output_type": "stream",
     "text": [
      "Epoch: 1 loss: 1.486\n",
      "Epoch: 2 loss: 0.646\n",
      "Epoch: 3 loss: 0.467\n",
      "Epoch: 4 loss: 0.397\n",
      "Epoch: 5 loss: 0.358\n",
      "Epoch: 6 loss: 0.333\n",
      "Epoch: 7 loss: 0.314\n",
      "Epoch: 8 loss: 0.300\n",
      "Epoch: 9 loss: 0.287\n",
      "Epoch: 10 loss: 0.277\n",
      "Finished Training\n"
     ]
    }
   ],
   "source": [
    "# Training loop\n",
    "for epoch in range(10): # loop over the whole dataset 10 times\n",
    "    running_loss = 0.0\n",
    "    for images, labels in train_loader:\n",
    "        # reset the optimizer\n",
    "        weights_optimizer.zero_grad()\n",
    "\n",
    "        # forward pass\n",
    "        outputs = model(images)\n",
    "        loss = loss_function(outputs, labels)\n",
    "\n",
    "        # backward pass (backpropagation)\n",
    "        loss.backward()\n",
    "        weights_optimizer.step()\n",
    "\n",
    "        # print statistics\n",
    "        running_loss += loss.item()\n",
    "    print('Epoch: %d loss: %.3f' %\n",
    "          (epoch + 1, running_loss / len(train_loader)))\n",
    "\n",
    "print('Finished Training')"
   ]
  },
  {
   "cell_type": "markdown",
   "metadata": {},
   "source": [
    "### Test our trained model using the test dataset\n",
    "We can test our trained neural net with images from the test dataset. Remember that the network hasn't seen any of the examples in the test dataset.\n",
    "\n",
    "We'll use `matplotlib` to visualize each digit and the probability distribution produced by our network"
   ]
  },
  {
   "cell_type": "code",
   "execution_count": 10,
   "metadata": {},
   "outputs": [
    {
     "data": {
      "image/png": "[encoded data removed]",
      "text/plain": [
       "<Figure size 600x900 with 2 Axes>"
      ]
     },
     "metadata": {},
     "output_type": "display_data"
    }
   ],
   "source": [
    "# Import necessary modules\n",
    "import matplotlib.pyplot as plt\n",
    "import numpy as np\n",
    "import torch\n",
    "\n",
    "# Function to show an image\n",
    "def imshow(img):\n",
    "    npimg = img.numpy()\n",
    "    plt.figure(figsize=(5, 5))\n",
    "    plt.imshow(npimg, cmap='gray')\n",
    "    plt.show()\n",
    "\n",
    "# Function to predict the digit in an image\n",
    "def predict_image(image):\n",
    "    image = image.view(1, 784)  # reshape the image to match model input shape\n",
    "    with torch.no_grad():\n",
    "        logps = model(image)  # log probabilities\n",
    "    ps = torch.exp(logps)  # convert to probabilities\n",
    "    _, predicted = torch.max(ps, 1)  # get the index of the max probability\n",
    "    return predicted.item(), ps\n",
    "\n",
    "# Function to view an image and its predicted classes\n",
    "def view_classify(img, ps):\n",
    "    ps = ps.data.numpy().squeeze()\n",
    "    fig, (ax1, ax2) = plt.subplots(figsize=(6,9), ncols=2)\n",
    "    ax1.imshow(img.resize_(1, 28, 28).numpy().squeeze(), cmap='gray')\n",
    "    ax1.axis('off')\n",
    "    ax2.barh(np.arange(10), ps)\n",
    "    ax2.set_aspect(0.1)\n",
    "    ax2.set_yticks(np.arange(10))\n",
    "    ax2.set_yticklabels(np.arange(10))\n",
    "    ax2.set_title('Digit Probability')\n",
    "    ax2.set_xlim(0, 1.1)\n",
    "    plt.tight_layout()\n",
    "\n",
    "# Get a random batch of images and labels\n",
    "dataiter = iter(test_loader)\n",
    "images, labels = next(dataiter)\n",
    "# Take the first image from the batch\n",
    "image = images[0] \n",
    "# Predict the digit in the image\n",
    "predicted, ps = predict_image(image)\n",
    "# View the image and its classification probabilities\n",
    "view_classify(image, ps)\n"
   ]
  }
 ],
 "metadata": {
  "kernelspec": {
   "display_name": "Python 3.10.9 ('base')",
   "language": "python",
   "name": "python3"
  },
  "language_info": {
   "codemirror_mode": {
    "name": "ipython",
    "version": 3
   },
   "file_extension": ".py",
   "mimetype": "text/x-python",
   "name": "python",
   "nbconvert_exporter": "python",
   "pygments_lexer": "ipython3",
   "version": "3.10.9"
  },
  "orig_nbformat": 4,
  "vscode": {
   "interpreter": {
    "hash": "080ce02426cd95ed3f2ddb5b7312e2744fce0e0a7de27b60d56ad135d34a3225"
   }
  }
 },
 "nbformat": 4,
 "nbformat_minor": 2
}
